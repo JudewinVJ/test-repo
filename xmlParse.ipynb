{
 "cells": [
  {
   "cell_type": "code",
   "execution_count": 26,
   "metadata": {},
   "outputs": [
    {
     "name": "stdout",
     "output_type": "stream",
     "text": [
      "enabled\n",
      "disabled\n"
     ]
    }
   ],
   "source": [
    "import xml.etree.ElementTree as ET\n",
    "\n",
    "\n",
    "\n",
    "def main():\n",
    "    result = []\n",
    "    dataList = []\n",
    "    tree =  ET.parse('opsense.xml')\n",
    "    \n",
    "    root = tree.getroot()\n",
    "    #print(root)\n",
    "    \n",
    "    for item in root.findall('.//rule'):\n",
    "        #print(item)\n",
    "        data = {}\n",
    "        for child in item:\n",
    "            #print(child.tag)\n",
    "            data[child.tag] = child.text\n",
    "        \n",
    "        dataList.append(data)\n",
    "    \n",
    "    \n",
    "    for i in range(len(dataList)):\n",
    "        if 'log' in dataList[i].keys():\n",
    "            if dataList[i]['log'] == '1':\n",
    "                print('enabled')\n",
    "            else:\n",
    "                print('disabled')\n",
    "        \n",
    "    \n",
    "        \n",
    "if __name__ == \"__main__\":\n",
    "    main()"
   ]
  },
  {
   "cell_type": "code",
   "execution_count": null,
   "metadata": {},
   "outputs": [],
   "source": []
  },
  {
   "cell_type": "code",
   "execution_count": null,
   "metadata": {},
   "outputs": [],
   "source": []
  }
 ],
 "metadata": {
  "kernelspec": {
   "display_name": "Python 3",
   "language": "python",
   "name": "python3"
  },
  "language_info": {
   "codemirror_mode": {
    "name": "ipython",
    "version": 3
   },
   "file_extension": ".py",
   "mimetype": "text/x-python",
   "name": "python",
   "nbconvert_exporter": "python",
   "pygments_lexer": "ipython3",
   "version": "3.8.5"
  }
 },
 "nbformat": 4,
 "nbformat_minor": 4
}
