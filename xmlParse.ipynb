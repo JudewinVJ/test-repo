{
 "cells": [
  {
   "cell_type": "code",
   "execution_count": 45,
   "metadata": {},
   "outputs": [
    {
     "name": "stdout",
     "output_type": "stream",
     "text": [
      "[{'type': 'pass', 'interface': 'lan', 'ipprotocol': 'inet', 'statetype': 'keep state', 'direction': 'in', 'log': '1', 'quick': '1', 'protocol': 'tcp', 'source': {'address': '1.1.1.1'}, 'destination': {'address': '2.2.2.2', 'port': '443'}, 'updated': {'username': 'root@10.171.4.137', 'time': '1615103271.993', 'description': '/firewall_rules_edit.php made changes'}, 'created': {'username': 'root@10.171.4.137', 'time': '1615103271.993', 'description': '/firewall_rules_edit.php made changes'}}, {'type': 'pass', 'interface': 'lo0', 'ipprotocol': 'inet', 'statetype': 'keep state', 'direction': 'in', 'quick': '1', 'source': {'any': '1'}, 'destination': {'any': '1'}, 'updated': {'username': 'root@10.171.0.36', 'time': '1617188840.3215', 'description': '/firewall_rules_edit.php made changes'}, 'created': {'username': 'root@10.171.0.36', 'time': '1617188840.3215', 'description': '/firewall_rules_edit.php made changes'}}, {'enabled': '1', 'sequence': '1', 'action': 'pass', 'quick': '1', 'interface': 'lan', 'direction': 'in', 'ipprotocol': 'inet', 'protocol': 'TCP', 'source_net': '192.168.0.0/24', 'source_not': '0', 'source_port': None, 'destination_net': '10.0.0.0/24', 'destination_not': '0', 'destination_port': None, 'gateway': None, 'log': '0', 'description': 'OPNsense_test_rule_addition'}]\n"
     ]
    }
   ],
   "source": [
    "import xml.etree.ElementTree as ET\n",
    "\n",
    "def convertToDict(root):\n",
    "    data = {}\n",
    "    for item in root.findall('*'):\n",
    "        for child in item:\n",
    "            data[child.tag] = child.text\n",
    "            \n",
    "    return data\n",
    "\n",
    "\n",
    "def main():\n",
    "    result = []\n",
    "    dataList = []\n",
    "    tree =  ET.parse('opnsense.xml')\n",
    "    \n",
    "    root = tree.getroot()\n",
    "    #print(root)\n",
    "    \n",
    "    for item in root.findall('.//rule'):\n",
    "        #print(item)\n",
    "        data = {}\n",
    "        if len(item):\n",
    "            for subitem in item:\n",
    "\n",
    "                if len(subitem):\n",
    "                    subdata = {}\n",
    "                    for super_sub_item in subitem:\n",
    "                        subdata[super_sub_item.tag] = super_sub_item.text\n",
    "                    data[subitem.tag] = subdata\n",
    "                else :\n",
    "                    \n",
    "                    data[subitem.tag] = subitem.text\n",
    "        else :\n",
    "            data[item.tag] = item.text\n",
    "           \n",
    "        dataList.append(data)\n",
    "    \n",
    "    print(dataList)\n",
    "    \n",
    "        \n",
    "if __name__ == \"__main__\":\n",
    "    main()"
   ]
  },
  {
   "cell_type": "code",
   "execution_count": null,
   "metadata": {},
   "outputs": [],
   "source": [
    "for child in root.findall(\"item\"):\n",
    "  # if there are children, get their text content as well.\n",
    "  if len(child): \n",
    "    for subchild in child:\n",
    "      subchild.text\n",
    "  # else just get the current child text.\n",
    "  else:\n",
    "    child.text"
   ]
  }
 ],
 "metadata": {
  "kernelspec": {
   "display_name": "Python 3",
   "language": "python",
   "name": "python3"
  },
  "language_info": {
   "codemirror_mode": {
    "name": "ipython",
    "version": 3
   },
   "file_extension": ".py",
   "mimetype": "text/x-python",
   "name": "python",
   "nbconvert_exporter": "python",
   "pygments_lexer": "ipython3",
   "version": "3.8.5"
  }
 },
 "nbformat": 4,
 "nbformat_minor": 4
}
